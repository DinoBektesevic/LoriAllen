{
 "cells": [
  {
   "cell_type": "code",
   "execution_count": 8,
   "metadata": {
    "collapsed": true
   },
   "outputs": [],
   "source": [
    "import numpy as np\n",
    "import csv\n",
    "%matplotlib inline"
   ]
  },
  {
   "cell_type": "code",
   "execution_count": 10,
   "metadata": {},
   "outputs": [
    {
     "data": {
      "text/plain": [
       "array([( 4156.,  309796.,  207., -42.), ( 4157.,  309796.,  207., -42.),\n",
       "       ( 4102.,  309769.,  207., -17.), ( 4103.,  309769.,  207., -17.),\n",
       "       ( 4114.,  309775.,  207., -17.), ( 4115.,  309775.,  207., -17.),\n",
       "       ( 4152.,  309794.,  208., -40.), ( 4153.,  309794.,  208., -40.),\n",
       "       ( 4096.,  309766.,  208., -19.), ( 4097.,  309766.,  208., -19.)],\n",
       "      dtype=[('id', '<f8'), ('visit_id', '<f8'), ('ra', '<f8'), ('dec', '<f8')])"
      ]
     },
     "execution_count": 10,
     "metadata": {},
     "output_type": "execute_result"
    }
   ],
   "source": [
    "all_pointings = np.genfromtxt(\"Fields/Fields_night_11.csv\", delimiter=\",\", names=True)\n",
    "all_pointings = np.sort(all_pointings, order=[\"ra\", \"dec\"])\n",
    "all_pointings[:10]"
   ]
  },
  {
   "cell_type": "code",
   "execution_count": 11,
   "metadata": {
    "scrolled": true
   },
   "outputs": [
    {
     "data": {
      "text/plain": [
       "[[( 4156.,  309796.,  207., -42.), ( 4157.,  309796.,  207., -42.)],\n",
       " [( 4102.,  309769.,  207., -17.), ( 4103.,  309769.,  207., -17.)],\n",
       " [( 4102.,  309769.,  207., -17.), ( 4114.,  309775.,  207., -17.)],\n",
       " [( 4102.,  309769.,  207., -17.), ( 4115.,  309775.,  207., -17.)],\n",
       " [( 4103.,  309769.,  207., -17.), ( 4114.,  309775.,  207., -17.)],\n",
       " [( 4103.,  309769.,  207., -17.), ( 4115.,  309775.,  207., -17.)],\n",
       " [( 4114.,  309775.,  207., -17.), ( 4115.,  309775.,  207., -17.)],\n",
       " [( 4115.,  309775.,  207., -17.), ( 4102.,  309769.,  207., -17.)],\n",
       " [( 4152.,  309794.,  208., -40.), ( 4153.,  309794.,  208., -40.)],\n",
       " [( 4096.,  309766.,  208., -19.), ( 4097.,  309766.,  208., -19.)],\n",
       " [( 4096.,  309766.,  208., -19.), ( 4108.,  309772.,  208., -19.)],\n",
       " [( 4096.,  309766.,  208., -19.), ( 4109.,  309772.,  208., -19.)],\n",
       " [( 4097.,  309766.,  208., -19.), ( 4108.,  309772.,  208., -19.)],\n",
       " [( 4097.,  309766.,  208., -19.), ( 4109.,  309772.,  208., -19.)],\n",
       " [( 4108.,  309772.,  208., -19.), ( 4109.,  309772.,  208., -19.)],\n",
       " [( 4109.,  309772.,  208., -19.), ( 4096.,  309766.,  208., -19.)],\n",
       " [( 4094.,  309765.,  208., -18.), ( 4095.,  309765.,  208., -18.)],\n",
       " [( 4094.,  309765.,  208., -18.), ( 4106.,  309771.,  208., -18.)],\n",
       " [( 4094.,  309765.,  208., -18.), ( 4107.,  309771.,  208., -18.)],\n",
       " [( 4095.,  309765.,  208., -18.), ( 4106.,  309771.,  208., -18.)],\n",
       " [( 4095.,  309765.,  208., -18.), ( 4107.,  309771.,  208., -18.)],\n",
       " [( 4106.,  309771.,  208., -18.), ( 4107.,  309771.,  208., -18.)]]"
      ]
     },
     "execution_count": 11,
     "metadata": {},
     "output_type": "execute_result"
    }
   ],
   "source": [
    "pairs = []\n",
    "debug, appended, count, previous = 0, False, 0, 0\n",
    "for i in all_pointings:\n",
    "    #print(\"in i\")\n",
    "    appended = False\n",
    "    for j in all_pointings[count:]:\n",
    "        #print(\"    in j\")\n",
    "        if i[\"id\"] == j[\"id\"]:\n",
    "            #print(\"    skipped i==j\")\n",
    "            continue\n",
    "        elif i[\"ra\"] == j[\"ra\"] and i[\"dec\"] == j[\"dec\"]:\n",
    "            pairs.append([i, j])\n",
    "            appended = True\n",
    "            previous += 1 #j[\"id\"]\n",
    "            #print(\"    appended\")\n",
    "            #print(\"   \", i, j)\n",
    "            #break\n",
    "    count += 1\n",
    "    if not appended and previous > 1:\n",
    "        for z in all_pointings:\n",
    "            if i[\"id\"] == z[\"id\"]:\n",
    "                #print(\"    skipped i==z\")\n",
    "                continue\n",
    "            elif i[\"ra\"] == z[\"ra\"] and i[\"dec\"] == z[\"dec\"]:\n",
    "                pairs.append([i, z])\n",
    "                #print(\"    appended z\")\n",
    "                #print(\"   \", i, z)\n",
    "                break\n",
    "        previous = 0\n",
    "    debug+=1   \n",
    "    if debug == 15:\n",
    "        break\n",
    "pairs"
   ]
  },
  {
   "cell_type": "code",
   "execution_count": null,
   "metadata": {
    "collapsed": true
   },
   "outputs": [],
   "source": [
    "    if not appended and count > 1:\n",
    "        for z in all_pointings:\n",
    "            if i[\"id\"] == z[\"id\"]:\n",
    "                print(\"    skipped i==z\")\n",
    "                continue\n",
    "            elif i[\"ra\"] == z[\"ra\"] and i[\"dec\"] == z[\"dec\"]:\n",
    "                pairs.append([i, z])\n",
    "                print(\"    appended z\")\n",
    "                print(\"   \", i, z)\n",
    "                break\n",
    "        appended = False\n",
    "        count = 0"
   ]
  },
  {
   "cell_type": "code",
   "execution_count": 6,
   "metadata": {},
   "outputs": [
    {
     "name": "stdout",
     "output_type": "stream",
     "text": [
      "[( 4156.,  309796.,  207., -42.), ( 4156.,  309796.,  207., -42.)]\n",
      "309796.0\n"
     ]
    }
   ],
   "source": [
    "for pair in b:\n",
    "    print(pair)\n",
    "    print(pair[0][\"visit_id\"])\n",
    "    break"
   ]
  },
  {
   "cell_type": "code",
   "execution_count": 7,
   "metadata": {
    "collapsed": true
   },
   "outputs": [],
   "source": [
    "procccd_lsst = \"/astro/store/pogo4/smotherh/DECam_Data_Reduction/night_9/Night_9_Products/\"\n",
    "procccd_epyc = \"/data/epyc/users/smotherh/DECAM_Data_Reduction/night_11/Night_11_Products/\"\n",
    "\n",
    "#/data/epyc/users/smotherh/DECAM_Data_Reduction/night_11/Night_11_Products/rerun/Night_11_Products_rerun_ProcessCcd\n",
    "\n",
    "rerunpath_lsst = procccd_lsst + \"rerun/Night_9_Products_rerun_singleFrameDriver\"\n",
    "rerunpath_epyc = procccd_epyc + \"rerun/Night_11_Products_rerun_ProcessCcd\"\n",
    "\n",
    "rerunpath = rerunpath_epyc#rerunpath_lsst\n",
    "\n",
    "ncpu = 20\n",
    "outpath = \"imdiff_night11\"\n",
    "cfgfile = \"config.py\"\n",
    "cmd = (\"imageDifference.py {rerunpath} -j {ncpu} --output {outpath} -C {cfgfile} --longlog \"+\n",
    "       \"--timeout 18000 --id visit={visitid} --templateId visit={templateid}\\n\")\n",
    "\n",
    "with open(\"jobs_night11.sh\", \"w\") as f:\n",
    "    for pair in b:\n",
    "        f.write(cmd.format(rerunpath=rerunpath, ncpu=ncpu, outpath=outpath, cfgfile=cfgfile, \n",
    "                           visitid=int(pair[0][\"visit_id\"]), templateid=int(pair[1][\"visit_id\"])))\n",
    "        "
   ]
  },
  {
   "cell_type": "code",
   "execution_count": null,
   "metadata": {
    "collapsed": true
   },
   "outputs": [],
   "source": []
  }
 ],
 "metadata": {
  "kernelspec": {
   "display_name": "Python 3",
   "language": "python",
   "name": "python3"
  },
  "language_info": {
   "codemirror_mode": {
    "name": "ipython",
    "version": 3
   },
   "file_extension": ".py",
   "mimetype": "text/x-python",
   "name": "python",
   "nbconvert_exporter": "python",
   "pygments_lexer": "ipython3",
   "version": "3.6.2"
  }
 },
 "nbformat": 4,
 "nbformat_minor": 2
}
