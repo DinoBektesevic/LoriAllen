{
 "cells": [
  {
   "cell_type": "code",
   "execution_count": 2,
   "metadata": {
    "collapsed": true
   },
   "outputs": [],
   "source": [
    "import pointings"
   ]
  },
  {
   "cell_type": "markdown",
   "metadata": {},
   "source": [
    "# Check if individual functions work correctly"
   ]
  },
  {
   "cell_type": "code",
   "execution_count": null,
   "metadata": {
    "scrolled": true
   },
   "outputs": [],
   "source": [
    "pointingsAllNights = pointings.read_pointings()"
   ]
  },
  {
   "cell_type": "code",
   "execution_count": 5,
   "metadata": {
    "collapsed": true
   },
   "outputs": [],
   "source": [
    "groupindices, ingestdict, imdiffdict = pointings.group_pointings(pointingsAllNights)"
   ]
  },
  {
   "cell_type": "code",
   "execution_count": 6,
   "metadata": {},
   "outputs": [
    {
     "name": "stdout",
     "output_type": "stream",
     "text": [
      "815\n",
      "815\n",
      "815\n",
      "Why is this different than the number of groups Hayden's code finds?\n"
     ]
    }
   ],
   "source": [
    "print(len(groupindices))\n",
    "print(len(ingestdict))\n",
    "print(len(imdiffdict))\n",
    "print(\"Why is this different than the number of groups Hayden's code finds?\")"
   ]
  },
  {
   "cell_type": "code",
   "execution_count": 7,
   "metadata": {},
   "outputs": [
    {
     "data": {
      "text/plain": [
       "array([ 0,  5,  8,  9, 13])"
      ]
     },
     "execution_count": 7,
     "metadata": {},
     "output_type": "execute_result"
    }
   ],
   "source": [
    "groupindices[0]"
   ]
  },
  {
   "cell_type": "code",
   "execution_count": 8,
   "metadata": {},
   "outputs": [
    {
     "data": {
      "text/plain": [
       "array([ 0,  5,  8,  9, 13])"
      ]
     },
     "execution_count": 8,
     "metadata": {},
     "output_type": "execute_result"
    }
   ],
   "source": [
    "ingestdict[\"r169.81025d0.910944\"]"
   ]
  },
  {
   "cell_type": "code",
   "execution_count": 9,
   "metadata": {},
   "outputs": [
    {
     "data": {
      "text/plain": [
       "array([ 0,  5,  8,  9, 13])"
      ]
     },
     "execution_count": 9,
     "metadata": {},
     "output_type": "execute_result"
    }
   ],
   "source": [
    "imdiffdict[\"imdiff_r169.81025d0.910944\"]"
   ]
  },
  {
   "cell_type": "code",
   "execution_count": 10,
   "metadata": {},
   "outputs": [
    {
     "data": {
      "text/html": [
       "&lt;Table masked=True length=5&gt;\n",
       "<table id=\"table140221507503944\" class=\"table-striped table-bordered table-condensed\">\n",
       "<thead><tr><th>release_date</th><th>start_date</th><th>date_obs</th><th>ra</th><th>dec</th><th>exposure</th><th>product</th><th>dtacqnam</th><th>filename</th><th>visit_id</th><th>reprocessing</th><th>ingest_folder</th><th>imdiff_folder</th></tr></thead>\n",
       "<thead><tr><th>object</th><th>object</th><th>object</th><th>float64</th><th>float64</th><th>float64</th><th>object</th><th>object</th><th>object</th><th>bytes6</th><th>int64</th><th>object</th><th>object</th></tr></thead>\n",
       "<tr><td>2015-10-30</td><td>2014-04-29</td><td>2014-04-29 23:43:22.348</td><td>169.81025</td><td>0.91094399999999998</td><td>40.0</td><td>image</td><td>/data_local/images/DTS/2013B-0536/DECam_00308124.fits.fz</td><td>c4d_140429_234455_ooi_VR_v3.fits.fz</td><td>308124</td><td>3</td><td>r169.81025d0.910944</td><td>imdiff_r169.81025d0.910944</td></tr>\n",
       "<tr><td>2015-10-30</td><td>2014-04-29</td><td>2014-04-29 23:42:13.654</td><td>169.81870799999999</td><td>0.91983300000000001</td><td>40.0</td><td>image</td><td>/data_local/images/DTS/2013B-0536/DECam_00308123.fits.fz</td><td>c4d_140429_234348_ooi_VR_v3.fits.fz</td><td>308123</td><td>3</td><td>r169.81025d0.910944</td><td>imdiff_r169.81025d0.910944</td></tr>\n",
       "<tr><td>2015-10-30</td><td>2014-04-29</td><td>2014-04-29 23:39:56.75</td><td>169.82008300000001</td><td>0.90258300000000002</td><td>40.0</td><td>image</td><td>/data_local/images/DTS/2013B-0536/DECam_00308121.fits.fz</td><td>c4d_140429_234129_ooi_VR_v3.fits.fz</td><td>308121</td><td>3</td><td>r169.81025d0.910944</td><td>imdiff_r169.81025d0.910944</td></tr>\n",
       "<tr><td>2015-10-30</td><td>2014-04-29</td><td>2014-04-29 23:38:48.604</td><td>169.82075</td><td>0.91005599999999998</td><td>40.0</td><td>image</td><td>/data_local/images/DTS/2013B-0536/DECam_00308120.fits.fz</td><td>c4d_140429_234019_ooi_VR_v3.fits.fz</td><td>308120</td><td>3</td><td>r169.81025d0.910944</td><td>imdiff_r169.81025d0.910944</td></tr>\n",
       "<tr><td>2015-10-30</td><td>2014-04-29</td><td>2014-04-29 23:41:04.803</td><td>169.82775000000001</td><td>0.91033299999999995</td><td>40.0</td><td>image</td><td>/data_local/images/DTS/2013B-0536/DECam_00308122.fits.fz</td><td>c4d_140429_234235_ooi_VR_v3.fits.fz</td><td>308122</td><td>3</td><td>r169.81025d0.910944</td><td>imdiff_r169.81025d0.910944</td></tr>\n",
       "</table>"
      ],
      "text/plain": [
       "<Table masked=True length=5>\n",
       "release_date start_date ...    ingest_folder          imdiff_folder       \n",
       "   object      object   ...        object                 object          \n",
       "------------ ---------- ... ------------------- --------------------------\n",
       "  2015-10-30 2014-04-29 ... r169.81025d0.910944 imdiff_r169.81025d0.910944\n",
       "  2015-10-30 2014-04-29 ... r169.81025d0.910944 imdiff_r169.81025d0.910944\n",
       "  2015-10-30 2014-04-29 ... r169.81025d0.910944 imdiff_r169.81025d0.910944\n",
       "  2015-10-30 2014-04-29 ... r169.81025d0.910944 imdiff_r169.81025d0.910944\n",
       "  2015-10-30 2014-04-29 ... r169.81025d0.910944 imdiff_r169.81025d0.910944"
      ]
     },
     "execution_count": 10,
     "metadata": {},
     "output_type": "execute_result"
    }
   ],
   "source": [
    "pointingsAllNights[groupindices[0]]"
   ]
  },
  {
   "cell_type": "code",
   "execution_count": 11,
   "metadata": {},
   "outputs": [
    {
     "data": {
      "text/html": [
       "&lt;Table masked=True length=5&gt;\n",
       "<table id=\"table140221507504000\" class=\"table-striped table-bordered table-condensed\">\n",
       "<thead><tr><th>release_date</th><th>start_date</th><th>date_obs</th><th>ra</th><th>dec</th><th>exposure</th><th>product</th><th>dtacqnam</th><th>filename</th><th>visit_id</th><th>reprocessing</th><th>ingest_folder</th><th>imdiff_folder</th></tr></thead>\n",
       "<thead><tr><th>object</th><th>object</th><th>object</th><th>float64</th><th>float64</th><th>float64</th><th>object</th><th>object</th><th>object</th><th>bytes6</th><th>int64</th><th>object</th><th>object</th></tr></thead>\n",
       "<tr><td>2015-10-30</td><td>2014-04-29</td><td>2014-04-29 23:43:22.348</td><td>169.81025</td><td>0.91094399999999998</td><td>40.0</td><td>image</td><td>/data_local/images/DTS/2013B-0536/DECam_00308124.fits.fz</td><td>c4d_140429_234455_ooi_VR_v3.fits.fz</td><td>308124</td><td>3</td><td>r169.81025d0.910944</td><td>imdiff_r169.81025d0.910944</td></tr>\n",
       "<tr><td>2015-10-30</td><td>2014-04-29</td><td>2014-04-29 23:42:13.654</td><td>169.81870799999999</td><td>0.91983300000000001</td><td>40.0</td><td>image</td><td>/data_local/images/DTS/2013B-0536/DECam_00308123.fits.fz</td><td>c4d_140429_234348_ooi_VR_v3.fits.fz</td><td>308123</td><td>3</td><td>r169.81025d0.910944</td><td>imdiff_r169.81025d0.910944</td></tr>\n",
       "<tr><td>2015-10-30</td><td>2014-04-29</td><td>2014-04-29 23:39:56.75</td><td>169.82008300000001</td><td>0.90258300000000002</td><td>40.0</td><td>image</td><td>/data_local/images/DTS/2013B-0536/DECam_00308121.fits.fz</td><td>c4d_140429_234129_ooi_VR_v3.fits.fz</td><td>308121</td><td>3</td><td>r169.81025d0.910944</td><td>imdiff_r169.81025d0.910944</td></tr>\n",
       "<tr><td>2015-10-30</td><td>2014-04-29</td><td>2014-04-29 23:38:48.604</td><td>169.82075</td><td>0.91005599999999998</td><td>40.0</td><td>image</td><td>/data_local/images/DTS/2013B-0536/DECam_00308120.fits.fz</td><td>c4d_140429_234019_ooi_VR_v3.fits.fz</td><td>308120</td><td>3</td><td>r169.81025d0.910944</td><td>imdiff_r169.81025d0.910944</td></tr>\n",
       "<tr><td>2015-10-30</td><td>2014-04-29</td><td>2014-04-29 23:41:04.803</td><td>169.82775000000001</td><td>0.91033299999999995</td><td>40.0</td><td>image</td><td>/data_local/images/DTS/2013B-0536/DECam_00308122.fits.fz</td><td>c4d_140429_234235_ooi_VR_v3.fits.fz</td><td>308122</td><td>3</td><td>r169.81025d0.910944</td><td>imdiff_r169.81025d0.910944</td></tr>\n",
       "</table>"
      ],
      "text/plain": [
       "<Table masked=True length=5>\n",
       "release_date start_date ...    ingest_folder          imdiff_folder       \n",
       "   object      object   ...        object                 object          \n",
       "------------ ---------- ... ------------------- --------------------------\n",
       "  2015-10-30 2014-04-29 ... r169.81025d0.910944 imdiff_r169.81025d0.910944\n",
       "  2015-10-30 2014-04-29 ... r169.81025d0.910944 imdiff_r169.81025d0.910944\n",
       "  2015-10-30 2014-04-29 ... r169.81025d0.910944 imdiff_r169.81025d0.910944\n",
       "  2015-10-30 2014-04-29 ... r169.81025d0.910944 imdiff_r169.81025d0.910944\n",
       "  2015-10-30 2014-04-29 ... r169.81025d0.910944 imdiff_r169.81025d0.910944"
      ]
     },
     "execution_count": 11,
     "metadata": {},
     "output_type": "execute_result"
    }
   ],
   "source": [
    "pointingsAllNights[ingestdict[\"r169.81025d0.910944\"]]"
   ]
  },
  {
   "cell_type": "code",
   "execution_count": null,
   "metadata": {},
   "outputs": [],
   "source": [
    "ingestdict"
   ]
  },
  {
   "cell_type": "code",
   "execution_count": null,
   "metadata": {
    "scrolled": true
   },
   "outputs": [],
   "source": [
    "imdiffdict"
   ]
  },
  {
   "cell_type": "code",
   "execution_count": null,
   "metadata": {},
   "outputs": [],
   "source": [
    "groupindices"
   ]
  },
  {
   "cell_type": "markdown",
   "metadata": {},
   "source": [
    "# Check if instantiation works"
   ]
  },
  {
   "cell_type": "code",
   "execution_count": 3,
   "metadata": {},
   "outputs": [
    {
     "data": {
      "text/plain": [
       "<pointings.PointingGroups at 0x7f143595e7b8>"
      ]
     },
     "execution_count": 3,
     "metadata": {},
     "output_type": "execute_result"
    }
   ],
   "source": [
    "pg = pointings.PointingGroups(table=pointingsAllNights)\n",
    "pg"
   ]
  },
  {
   "cell_type": "code",
   "execution_count": 5,
   "metadata": {},
   "outputs": [
    {
     "data": {
      "text/plain": [
       "<pointings.PointingGroups at 0x7f0efee18a20>"
      ]
     },
     "execution_count": 5,
     "metadata": {},
     "output_type": "execute_result"
    }
   ],
   "source": [
    "pg = pointings.PointingGroups(table = pointingsAllNights,\n",
    "                       groupIndices = groupindices,\n",
    "                       ingestFolderMap = ingestdict,\n",
    "                       imdiffFolderMap = imdiffdict\n",
    "                       )\n",
    "pg"
   ]
  },
  {
   "cell_type": "code",
   "execution_count": 7,
   "metadata": {},
   "outputs": [
    {
     "data": {
      "text/plain": [
       "<pointings.PointingGroups at 0x7f0efee45b38>"
      ]
     },
     "execution_count": 7,
     "metadata": {},
     "output_type": "execute_result"
    }
   ],
   "source": [
    "pg.write(\"test\")\n",
    "pg = pointings.PointingGroups.load(\"test\")\n",
    "pg"
   ]
  },
  {
   "cell_type": "markdown",
   "metadata": {},
   "source": [
    "# Check row indicing"
   ]
  },
  {
   "cell_type": "code",
   "execution_count": 16,
   "metadata": {},
   "outputs": [
    {
     "data": {
      "text/html": [
       "&lt;Table masked=True length=5&gt;\n",
       "<table id=\"table140338592545536\" class=\"table-striped table-bordered table-condensed\">\n",
       "<thead><tr><th>release_date</th><th>start_date</th><th>date_obs</th><th>ra</th><th>dec</th><th>exposure</th><th>product</th><th>dtacqnam</th><th>filename</th><th>visit_id</th><th>reprocessing</th><th>ingest_folder</th><th>imdiff_folder</th></tr></thead>\n",
       "<thead><tr><th>object</th><th>object</th><th>object</th><th>float64</th><th>float64</th><th>float64</th><th>object</th><th>object</th><th>object</th><th>bytes6</th><th>int64</th><th>object</th><th>object</th></tr></thead>\n",
       "<tr><td>2015-10-30</td><td>2014-04-29</td><td>2014-04-29 23:43:22.348</td><td>169.81025</td><td>0.91094399999999998</td><td>40.0</td><td>image</td><td>/data_local/images/DTS/2013B-0536/DECam_00308124.fits.fz</td><td>c4d_140429_234455_ooi_VR_v3.fits.fz</td><td>308124</td><td>3</td><td>r169.81025d0.910944</td><td>imdiff_r169.81025d0.910944</td></tr>\n",
       "<tr><td>2015-10-30</td><td>2014-04-29</td><td>2014-04-29 23:42:13.654</td><td>169.81870799999999</td><td>0.91983300000000001</td><td>40.0</td><td>image</td><td>/data_local/images/DTS/2013B-0536/DECam_00308123.fits.fz</td><td>c4d_140429_234348_ooi_VR_v3.fits.fz</td><td>308123</td><td>3</td><td>r169.81025d0.910944</td><td>imdiff_r169.81025d0.910944</td></tr>\n",
       "<tr><td>2015-10-30</td><td>2014-04-29</td><td>2014-04-29 23:39:56.75</td><td>169.82008300000001</td><td>0.90258300000000002</td><td>40.0</td><td>image</td><td>/data_local/images/DTS/2013B-0536/DECam_00308121.fits.fz</td><td>c4d_140429_234129_ooi_VR_v3.fits.fz</td><td>308121</td><td>3</td><td>r169.81025d0.910944</td><td>imdiff_r169.81025d0.910944</td></tr>\n",
       "<tr><td>2015-10-30</td><td>2014-04-29</td><td>2014-04-29 23:38:48.604</td><td>169.82075</td><td>0.91005599999999998</td><td>40.0</td><td>image</td><td>/data_local/images/DTS/2013B-0536/DECam_00308120.fits.fz</td><td>c4d_140429_234019_ooi_VR_v3.fits.fz</td><td>308120</td><td>3</td><td>r169.81025d0.910944</td><td>imdiff_r169.81025d0.910944</td></tr>\n",
       "<tr><td>2015-10-30</td><td>2014-04-29</td><td>2014-04-29 23:41:04.803</td><td>169.82775000000001</td><td>0.91033299999999995</td><td>40.0</td><td>image</td><td>/data_local/images/DTS/2013B-0536/DECam_00308122.fits.fz</td><td>c4d_140429_234235_ooi_VR_v3.fits.fz</td><td>308122</td><td>3</td><td>r169.81025d0.910944</td><td>imdiff_r169.81025d0.910944</td></tr>\n",
       "</table>"
      ],
      "text/plain": [
       "<Table masked=True length=5>\n",
       "release_date start_date ...    ingest_folder          imdiff_folder       \n",
       "   object      object   ...        object                 object          \n",
       "------------ ---------- ... ------------------- --------------------------\n",
       "  2015-10-30 2014-04-29 ... r169.81025d0.910944 imdiff_r169.81025d0.910944\n",
       "  2015-10-30 2014-04-29 ... r169.81025d0.910944 imdiff_r169.81025d0.910944\n",
       "  2015-10-30 2014-04-29 ... r169.81025d0.910944 imdiff_r169.81025d0.910944\n",
       "  2015-10-30 2014-04-29 ... r169.81025d0.910944 imdiff_r169.81025d0.910944\n",
       "  2015-10-30 2014-04-29 ... r169.81025d0.910944 imdiff_r169.81025d0.910944"
      ]
     },
     "execution_count": 16,
     "metadata": {},
     "output_type": "execute_result"
    }
   ],
   "source": [
    "# returns first pointing group\n",
    "pg[0]"
   ]
  },
  {
   "cell_type": "code",
   "execution_count": null,
   "metadata": {},
   "outputs": [],
   "source": [
    "# slicing returns a list of first n groups \n",
    "pg[:2]"
   ]
  },
  {
   "cell_type": "code",
   "execution_count": 18,
   "metadata": {},
   "outputs": [
    {
     "data": {
      "text/html": [
       "&lt;Table masked=True length=5&gt;\n",
       "<table id=\"table140338592546488\" class=\"table-striped table-bordered table-condensed\">\n",
       "<thead><tr><th>release_date</th><th>start_date</th><th>date_obs</th><th>ra</th><th>dec</th><th>exposure</th><th>product</th><th>dtacqnam</th><th>filename</th><th>visit_id</th><th>reprocessing</th><th>ingest_folder</th><th>imdiff_folder</th></tr></thead>\n",
       "<thead><tr><th>object</th><th>object</th><th>object</th><th>float64</th><th>float64</th><th>float64</th><th>object</th><th>object</th><th>object</th><th>bytes6</th><th>int64</th><th>object</th><th>object</th></tr></thead>\n",
       "<tr><td>2015-10-30</td><td>2014-04-29</td><td>2014-04-29 23:43:22.348</td><td>169.81025</td><td>0.91094399999999998</td><td>40.0</td><td>image</td><td>/data_local/images/DTS/2013B-0536/DECam_00308124.fits.fz</td><td>c4d_140429_234455_ooi_VR_v3.fits.fz</td><td>308124</td><td>3</td><td>r169.81025d0.910944</td><td>imdiff_r169.81025d0.910944</td></tr>\n",
       "<tr><td>2015-10-30</td><td>2014-04-29</td><td>2014-04-29 23:42:13.654</td><td>169.81870799999999</td><td>0.91983300000000001</td><td>40.0</td><td>image</td><td>/data_local/images/DTS/2013B-0536/DECam_00308123.fits.fz</td><td>c4d_140429_234348_ooi_VR_v3.fits.fz</td><td>308123</td><td>3</td><td>r169.81025d0.910944</td><td>imdiff_r169.81025d0.910944</td></tr>\n",
       "<tr><td>2015-10-30</td><td>2014-04-29</td><td>2014-04-29 23:39:56.75</td><td>169.82008300000001</td><td>0.90258300000000002</td><td>40.0</td><td>image</td><td>/data_local/images/DTS/2013B-0536/DECam_00308121.fits.fz</td><td>c4d_140429_234129_ooi_VR_v3.fits.fz</td><td>308121</td><td>3</td><td>r169.81025d0.910944</td><td>imdiff_r169.81025d0.910944</td></tr>\n",
       "<tr><td>2015-10-30</td><td>2014-04-29</td><td>2014-04-29 23:38:48.604</td><td>169.82075</td><td>0.91005599999999998</td><td>40.0</td><td>image</td><td>/data_local/images/DTS/2013B-0536/DECam_00308120.fits.fz</td><td>c4d_140429_234019_ooi_VR_v3.fits.fz</td><td>308120</td><td>3</td><td>r169.81025d0.910944</td><td>imdiff_r169.81025d0.910944</td></tr>\n",
       "<tr><td>2015-10-30</td><td>2014-04-29</td><td>2014-04-29 23:41:04.803</td><td>169.82775000000001</td><td>0.91033299999999995</td><td>40.0</td><td>image</td><td>/data_local/images/DTS/2013B-0536/DECam_00308122.fits.fz</td><td>c4d_140429_234235_ooi_VR_v3.fits.fz</td><td>308122</td><td>3</td><td>r169.81025d0.910944</td><td>imdiff_r169.81025d0.910944</td></tr>\n",
       "</table>"
      ],
      "text/plain": [
       "<Table masked=True length=5>\n",
       "release_date start_date ...    ingest_folder          imdiff_folder       \n",
       "   object      object   ...        object                 object          \n",
       "------------ ---------- ... ------------------- --------------------------\n",
       "  2015-10-30 2014-04-29 ... r169.81025d0.910944 imdiff_r169.81025d0.910944\n",
       "  2015-10-30 2014-04-29 ... r169.81025d0.910944 imdiff_r169.81025d0.910944\n",
       "  2015-10-30 2014-04-29 ... r169.81025d0.910944 imdiff_r169.81025d0.910944\n",
       "  2015-10-30 2014-04-29 ... r169.81025d0.910944 imdiff_r169.81025d0.910944\n",
       "  2015-10-30 2014-04-29 ... r169.81025d0.910944 imdiff_r169.81025d0.910944"
      ]
     },
     "execution_count": 18,
     "metadata": {},
     "output_type": "execute_result"
    }
   ],
   "source": [
    "# return first group but searched for by ingest folder name\n",
    "pg[\"r169.81025d0.910944\"]"
   ]
  },
  {
   "cell_type": "code",
   "execution_count": 19,
   "metadata": {},
   "outputs": [
    {
     "data": {
      "text/html": [
       "&lt;Table masked=True length=5&gt;\n",
       "<table id=\"table140338606389848\" class=\"table-striped table-bordered table-condensed\">\n",
       "<thead><tr><th>release_date</th><th>start_date</th><th>date_obs</th><th>ra</th><th>dec</th><th>exposure</th><th>product</th><th>dtacqnam</th><th>filename</th><th>visit_id</th><th>reprocessing</th><th>ingest_folder</th><th>imdiff_folder</th></tr></thead>\n",
       "<thead><tr><th>object</th><th>object</th><th>object</th><th>float64</th><th>float64</th><th>float64</th><th>object</th><th>object</th><th>object</th><th>bytes6</th><th>int64</th><th>object</th><th>object</th></tr></thead>\n",
       "<tr><td>2015-10-30</td><td>2014-04-29</td><td>2014-04-29 23:43:22.348</td><td>169.81025</td><td>0.91094399999999998</td><td>40.0</td><td>image</td><td>/data_local/images/DTS/2013B-0536/DECam_00308124.fits.fz</td><td>c4d_140429_234455_ooi_VR_v3.fits.fz</td><td>308124</td><td>3</td><td>r169.81025d0.910944</td><td>imdiff_r169.81025d0.910944</td></tr>\n",
       "<tr><td>2015-10-30</td><td>2014-04-29</td><td>2014-04-29 23:42:13.654</td><td>169.81870799999999</td><td>0.91983300000000001</td><td>40.0</td><td>image</td><td>/data_local/images/DTS/2013B-0536/DECam_00308123.fits.fz</td><td>c4d_140429_234348_ooi_VR_v3.fits.fz</td><td>308123</td><td>3</td><td>r169.81025d0.910944</td><td>imdiff_r169.81025d0.910944</td></tr>\n",
       "<tr><td>2015-10-30</td><td>2014-04-29</td><td>2014-04-29 23:39:56.75</td><td>169.82008300000001</td><td>0.90258300000000002</td><td>40.0</td><td>image</td><td>/data_local/images/DTS/2013B-0536/DECam_00308121.fits.fz</td><td>c4d_140429_234129_ooi_VR_v3.fits.fz</td><td>308121</td><td>3</td><td>r169.81025d0.910944</td><td>imdiff_r169.81025d0.910944</td></tr>\n",
       "<tr><td>2015-10-30</td><td>2014-04-29</td><td>2014-04-29 23:38:48.604</td><td>169.82075</td><td>0.91005599999999998</td><td>40.0</td><td>image</td><td>/data_local/images/DTS/2013B-0536/DECam_00308120.fits.fz</td><td>c4d_140429_234019_ooi_VR_v3.fits.fz</td><td>308120</td><td>3</td><td>r169.81025d0.910944</td><td>imdiff_r169.81025d0.910944</td></tr>\n",
       "<tr><td>2015-10-30</td><td>2014-04-29</td><td>2014-04-29 23:41:04.803</td><td>169.82775000000001</td><td>0.91033299999999995</td><td>40.0</td><td>image</td><td>/data_local/images/DTS/2013B-0536/DECam_00308122.fits.fz</td><td>c4d_140429_234235_ooi_VR_v3.fits.fz</td><td>308122</td><td>3</td><td>r169.81025d0.910944</td><td>imdiff_r169.81025d0.910944</td></tr>\n",
       "</table>"
      ],
      "text/plain": [
       "<Table masked=True length=5>\n",
       "release_date start_date ...    ingest_folder          imdiff_folder       \n",
       "   object      object   ...        object                 object          \n",
       "------------ ---------- ... ------------------- --------------------------\n",
       "  2015-10-30 2014-04-29 ... r169.81025d0.910944 imdiff_r169.81025d0.910944\n",
       "  2015-10-30 2014-04-29 ... r169.81025d0.910944 imdiff_r169.81025d0.910944\n",
       "  2015-10-30 2014-04-29 ... r169.81025d0.910944 imdiff_r169.81025d0.910944\n",
       "  2015-10-30 2014-04-29 ... r169.81025d0.910944 imdiff_r169.81025d0.910944\n",
       "  2015-10-30 2014-04-29 ... r169.81025d0.910944 imdiff_r169.81025d0.910944"
      ]
     },
     "execution_count": 19,
     "metadata": {},
     "output_type": "execute_result"
    }
   ],
   "source": [
    "# return first group searched for by imdiff folder name, all three results need to be the same\n",
    "pg[\"imdiff_r169.81025d0.910944\"]"
   ]
  },
  {
   "cell_type": "markdown",
   "metadata": {},
   "source": [
    "# Check column indexing"
   ]
  },
  {
   "cell_type": "code",
   "execution_count": null,
   "metadata": {},
   "outputs": [],
   "source": [
    "# column indexing will return a column, or columns sliced through all groups, \n",
    "# notice that length of the returned list and the full table don't match - these are just pointings in a group\n",
    "pg[\"ra\"]"
   ]
  },
  {
   "cell_type": "code",
   "execution_count": null,
   "metadata": {},
   "outputs": [],
   "source": [
    "# whole new tables can be constructed - keep in mind these are views and mutate the underlying data\n",
    "pg[[\"ra\", \"dec\"]]"
   ]
  },
  {
   "cell_type": "code",
   "execution_count": 21,
   "metadata": {},
   "outputs": [
    {
     "data": {
      "text/html": [
       "&lt;Table masked=True length=5&gt;\n",
       "<table id=\"table140338606578040\" class=\"table-striped table-bordered table-condensed\">\n",
       "<thead><tr><th>ra</th><th>dec</th></tr></thead>\n",
       "<thead><tr><th>float64</th><th>float64</th></tr></thead>\n",
       "<tr><td>339.76766700000002</td><td>-10.819278000000001</td></tr>\n",
       "<tr><td>339.76837499999999</td><td>-10.819194</td></tr>\n",
       "<tr><td>339.768958</td><td>-10.819750000000001</td></tr>\n",
       "<tr><td>339.76904200000001</td><td>-10.819639</td></tr>\n",
       "<tr><td>339.769542</td><td>-10.819388999999999</td></tr>\n",
       "</table>"
      ],
      "text/plain": [
       "<Table masked=True length=5>\n",
       "        ra                 dec        \n",
       "     float64             float64      \n",
       "------------------ -------------------\n",
       "339.76766700000002 -10.819278000000001\n",
       "339.76837499999999          -10.819194\n",
       "        339.768958 -10.819750000000001\n",
       "339.76904200000001          -10.819639\n",
       "        339.769542 -10.819388999999999"
      ]
     },
     "execution_count": 21,
     "metadata": {},
     "output_type": "execute_result"
    }
   ],
   "source": [
    "# group selection is ambiguous when indexing columns, specify indices of group that needs to be returned \n",
    "# this means direct access to indices - .groups, .ingest or .imdiff\n",
    "pg.table[[\"ra\", \"dec\"]][pg.groups[-1]]"
   ]
  },
  {
   "cell_type": "markdown",
   "metadata": {},
   "source": [
    "# Indexing all pointings "
   ]
  },
  {
   "cell_type": "code",
   "execution_count": 22,
   "metadata": {},
   "outputs": [
    {
     "data": {
      "text/html": [
       "&lt;Table masked=True length=3&gt;\n",
       "<table id=\"table140338606390520\" class=\"table-striped table-bordered table-condensed\">\n",
       "<thead><tr><th>release_date</th><th>start_date</th><th>date_obs</th><th>ra</th><th>dec</th><th>exposure</th><th>product</th><th>dtacqnam</th><th>filename</th><th>visit_id</th><th>reprocessing</th><th>ingest_folder</th><th>imdiff_folder</th></tr></thead>\n",
       "<thead><tr><th>object</th><th>object</th><th>object</th><th>float64</th><th>float64</th><th>float64</th><th>object</th><th>object</th><th>object</th><th>bytes6</th><th>int64</th><th>object</th><th>object</th></tr></thead>\n",
       "<tr><td>2015-10-30</td><td>2014-04-29</td><td>2014-04-29 23:43:22.348</td><td>169.81025</td><td>0.91094399999999998</td><td>40.0</td><td>image</td><td>/data_local/images/DTS/2013B-0536/DECam_00308124.fits.fz</td><td>c4d_140429_234455_ooi_VR_v3.fits.fz</td><td>308124</td><td>3</td><td>r169.81025d0.910944</td><td>imdiff_r169.81025d0.910944</td></tr>\n",
       "<tr><td>2015-10-30</td><td>2014-04-29</td><td>2014-04-29 23:43:22.348</td><td>169.81025</td><td>0.91094399999999998</td><td>40.0</td><td>image</td><td>/data_local/images/DTS/2013B-0536/DECam_00308124.fits.fz</td><td>c4d_140429_234455_ooi_VR_v2.fits.fz</td><td>308124</td><td>2</td><td>None</td><td>None</td></tr>\n",
       "<tr><td>2015-10-30</td><td>2014-04-29</td><td>2014-04-29 23:43:22.348</td><td>169.81025</td><td>0.910972</td><td>40.0</td><td>image</td><td>/data_local/images/DTS/2013B-0536/DECam_00308124.fits.fz</td><td>c4d_140429_234455_ooi_VR_v1.fits.fz</td><td>308124</td><td>1</td><td>None</td><td>None</td></tr>\n",
       "</table>"
      ],
      "text/plain": [
       "<Table masked=True length=3>\n",
       "release_date start_date ...    ingest_folder          imdiff_folder       \n",
       "   object      object   ...        object                 object          \n",
       "------------ ---------- ... ------------------- --------------------------\n",
       "  2015-10-30 2014-04-29 ... r169.81025d0.910944 imdiff_r169.81025d0.910944\n",
       "  2015-10-30 2014-04-29 ...                None                       None\n",
       "  2015-10-30 2014-04-29 ...                None                       None"
      ]
     },
     "execution_count": 22,
     "metadata": {},
     "output_type": "execute_result"
    }
   ],
   "source": [
    "# just refer to .table and then everything again works as above\n",
    "pg.table[:3]"
   ]
  },
  {
   "cell_type": "markdown",
   "metadata": {},
   "source": [
    "# Iteration over groups"
   ]
  },
  {
   "cell_type": "code",
   "execution_count": 2,
   "metadata": {},
   "outputs": [
    {
     "data": {
      "text/html": [
       "&lt;Table masked=True length=5&gt;\n",
       "<table id=\"table140062790963552\" class=\"table-striped table-bordered table-condensed\">\n",
       "<thead><tr><th>release_date</th><th>start_date</th><th>date_obs</th><th>ra</th><th>dec</th><th>exposure</th><th>product</th><th>dtacqnam</th><th>filename</th><th>visit_id</th><th>reprocessing</th><th>ingest_folder</th><th>imdiff_folder</th></tr></thead>\n",
       "<thead><tr><th>object</th><th>object</th><th>object</th><th>float64</th><th>float64</th><th>float64</th><th>object</th><th>object</th><th>object</th><th>bytes6</th><th>int64</th><th>object</th><th>object</th></tr></thead>\n",
       "<tr><td>2015-10-29</td><td>2014-04-28</td><td>2014-04-29 10:00:20.27</td><td>339.76766700000002</td><td>-10.819278000000001</td><td>40.0</td><td>image</td><td>/data_local/images/DTS/2013B-0536/DECam_00307992.fits.fz</td><td>c4d_140429_100154_ooi_VR_v1.fits.fz</td><td>307992</td><td>1</td><td>r339.767667d-10.819278</td><td>imdiff_r339.767667d-10.819278</td></tr>\n",
       "<tr><td>2015-10-29</td><td>2014-04-28</td><td>2014-04-29 10:05:02.096</td><td>339.76837499999999</td><td>-10.819194</td><td>40.0</td><td>image</td><td>/data_local/images/DTS/2013B-0536/DECam_00307996.fits.fz</td><td>c4d_140429_100635_ooi_VR_v1.fits.fz</td><td>307996</td><td>1</td><td>r339.767667d-10.819278</td><td>imdiff_r339.767667d-10.819278</td></tr>\n",
       "<tr><td>2015-10-29</td><td>2014-04-28</td><td>2014-04-29 09:55:38.521</td><td>339.768958</td><td>-10.819750000000001</td><td>40.0</td><td>image</td><td>/data_local/images/DTS/2013B-0536/DECam_00307988.fits.fz</td><td>c4d_140429_095711_ooi_VR_v1.fits.fz</td><td>307988</td><td>1</td><td>r339.767667d-10.819278</td><td>imdiff_r339.767667d-10.819278</td></tr>\n",
       "<tr><td>2015-10-29</td><td>2014-04-28</td><td>2014-04-29 09:46:30.881</td><td>339.76904200000001</td><td>-10.819639</td><td>40.0</td><td>image</td><td>/data_local/images/DTS/2013B-0536/DECam_00307980.fits.fz</td><td>c4d_140429_094802_ooi_VR_v1.fits.fz</td><td>307980</td><td>1</td><td>r339.767667d-10.819278</td><td>imdiff_r339.767667d-10.819278</td></tr>\n",
       "<tr><td>2015-10-29</td><td>2014-04-28</td><td>2014-04-29 09:51:04.099</td><td>339.769542</td><td>-10.819388999999999</td><td>40.0</td><td>image</td><td>/data_local/images/DTS/2013B-0536/DECam_00307984.fits.fz</td><td>c4d_140429_095237_ooi_VR_v1.fits.fz</td><td>307984</td><td>1</td><td>r339.767667d-10.819278</td><td>imdiff_r339.767667d-10.819278</td></tr>\n",
       "</table>"
      ],
      "text/plain": [
       "<Table masked=True length=5>\n",
       "release_date start_date ...     ingest_folder              imdiff_folder        \n",
       "   object      object   ...         object                     object           \n",
       "------------ ---------- ... ---------------------- -----------------------------\n",
       "  2015-10-29 2014-04-28 ... r339.767667d-10.819278 imdiff_r339.767667d-10.819278\n",
       "  2015-10-29 2014-04-28 ... r339.767667d-10.819278 imdiff_r339.767667d-10.819278\n",
       "  2015-10-29 2014-04-28 ... r339.767667d-10.819278 imdiff_r339.767667d-10.819278\n",
       "  2015-10-29 2014-04-28 ... r339.767667d-10.819278 imdiff_r339.767667d-10.819278\n",
       "  2015-10-29 2014-04-28 ... r339.767667d-10.819278 imdiff_r339.767667d-10.819278"
      ]
     },
     "execution_count": 2,
     "metadata": {},
     "output_type": "execute_result"
    }
   ],
   "source": [
    "# done like this weirdly to get pretty output table because print hides too many details to verify\n",
    "# they have to be the same\n",
    "for group in pg:\n",
    "    pass\n",
    "group"
   ]
  },
  {
   "cell_type": "code",
   "execution_count": 3,
   "metadata": {},
   "outputs": [
    {
     "data": {
      "text/html": [
       "&lt;Table masked=True length=5&gt;\n",
       "<table id=\"table140062790630200\" class=\"table-striped table-bordered table-condensed\">\n",
       "<thead><tr><th>release_date</th><th>start_date</th><th>date_obs</th><th>ra</th><th>dec</th><th>exposure</th><th>product</th><th>dtacqnam</th><th>filename</th><th>visit_id</th><th>reprocessing</th><th>ingest_folder</th><th>imdiff_folder</th></tr></thead>\n",
       "<thead><tr><th>object</th><th>object</th><th>object</th><th>float64</th><th>float64</th><th>float64</th><th>object</th><th>object</th><th>object</th><th>bytes6</th><th>int64</th><th>object</th><th>object</th></tr></thead>\n",
       "<tr><td>2015-10-29</td><td>2014-04-28</td><td>2014-04-29 10:00:20.27</td><td>339.76766700000002</td><td>-10.819278000000001</td><td>40.0</td><td>image</td><td>/data_local/images/DTS/2013B-0536/DECam_00307992.fits.fz</td><td>c4d_140429_100154_ooi_VR_v1.fits.fz</td><td>307992</td><td>1</td><td>r339.767667d-10.819278</td><td>imdiff_r339.767667d-10.819278</td></tr>\n",
       "<tr><td>2015-10-29</td><td>2014-04-28</td><td>2014-04-29 10:05:02.096</td><td>339.76837499999999</td><td>-10.819194</td><td>40.0</td><td>image</td><td>/data_local/images/DTS/2013B-0536/DECam_00307996.fits.fz</td><td>c4d_140429_100635_ooi_VR_v1.fits.fz</td><td>307996</td><td>1</td><td>r339.767667d-10.819278</td><td>imdiff_r339.767667d-10.819278</td></tr>\n",
       "<tr><td>2015-10-29</td><td>2014-04-28</td><td>2014-04-29 09:55:38.521</td><td>339.768958</td><td>-10.819750000000001</td><td>40.0</td><td>image</td><td>/data_local/images/DTS/2013B-0536/DECam_00307988.fits.fz</td><td>c4d_140429_095711_ooi_VR_v1.fits.fz</td><td>307988</td><td>1</td><td>r339.767667d-10.819278</td><td>imdiff_r339.767667d-10.819278</td></tr>\n",
       "<tr><td>2015-10-29</td><td>2014-04-28</td><td>2014-04-29 09:46:30.881</td><td>339.76904200000001</td><td>-10.819639</td><td>40.0</td><td>image</td><td>/data_local/images/DTS/2013B-0536/DECam_00307980.fits.fz</td><td>c4d_140429_094802_ooi_VR_v1.fits.fz</td><td>307980</td><td>1</td><td>r339.767667d-10.819278</td><td>imdiff_r339.767667d-10.819278</td></tr>\n",
       "<tr><td>2015-10-29</td><td>2014-04-28</td><td>2014-04-29 09:51:04.099</td><td>339.769542</td><td>-10.819388999999999</td><td>40.0</td><td>image</td><td>/data_local/images/DTS/2013B-0536/DECam_00307984.fits.fz</td><td>c4d_140429_095237_ooi_VR_v1.fits.fz</td><td>307984</td><td>1</td><td>r339.767667d-10.819278</td><td>imdiff_r339.767667d-10.819278</td></tr>\n",
       "</table>"
      ],
      "text/plain": [
       "<Table masked=True length=5>\n",
       "release_date start_date ...     ingest_folder              imdiff_folder        \n",
       "   object      object   ...         object                     object           \n",
       "------------ ---------- ... ---------------------- -----------------------------\n",
       "  2015-10-29 2014-04-28 ... r339.767667d-10.819278 imdiff_r339.767667d-10.819278\n",
       "  2015-10-29 2014-04-28 ... r339.767667d-10.819278 imdiff_r339.767667d-10.819278\n",
       "  2015-10-29 2014-04-28 ... r339.767667d-10.819278 imdiff_r339.767667d-10.819278\n",
       "  2015-10-29 2014-04-28 ... r339.767667d-10.819278 imdiff_r339.767667d-10.819278\n",
       "  2015-10-29 2014-04-28 ... r339.767667d-10.819278 imdiff_r339.767667d-10.819278"
      ]
     },
     "execution_count": 3,
     "metadata": {},
     "output_type": "execute_result"
    }
   ],
   "source": [
    "pg[-1]"
   ]
  },
  {
   "cell_type": "code",
   "execution_count": null,
   "metadata": {
    "collapsed": true
   },
   "outputs": [],
   "source": []
  }
 ],
 "metadata": {
  "anaconda-cloud": {},
  "kernelspec": {
   "display_name": "Python 3",
   "language": "python",
   "name": "python3"
  },
  "language_info": {
   "codemirror_mode": {
    "name": "ipython",
    "version": 3
   },
   "file_extension": ".py",
   "mimetype": "text/x-python",
   "name": "python",
   "nbconvert_exporter": "python",
   "pygments_lexer": "ipython3",
   "version": "3.6.2"
  }
 },
 "nbformat": 4,
 "nbformat_minor": 2
}
